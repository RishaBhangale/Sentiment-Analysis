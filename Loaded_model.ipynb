{
  "nbformat": 4,
  "nbformat_minor": 0,
  "metadata": {
    "colab": {
      "provenance": []
    },
    "kernelspec": {
      "name": "python3",
      "display_name": "Python 3"
    },
    "language_info": {
      "name": "python"
    }
  },
  "cells": [
    {
      "cell_type": "code",
      "source": [
        "!pip install -q transformers"
      ],
      "metadata": {
        "id": "SWDU-HDnX7UA"
      },
      "execution_count": 2,
      "outputs": []
    },
    {
      "cell_type": "code",
      "source": [
        "import torch\n",
        "from transformers import DistilBertTokenizer, DistilBertForSequenceClassification"
      ],
      "metadata": {
        "id": "OFTf222AYANu"
      },
      "execution_count": 3,
      "outputs": []
    },
    {
      "cell_type": "code",
      "source": [
        "# Mount Google Drive if model is saved there\n",
        "from google.colab import drive\n",
        "drive.mount('/content/drive')"
      ],
      "metadata": {
        "colab": {
          "base_uri": "https://localhost:8080/"
        },
        "id": "RiyYfRkx3Csp",
        "outputId": "ef64e317-5179-4a79-9ebc-bfd87b2cee4e"
      },
      "execution_count": 7,
      "outputs": [
        {
          "output_type": "stream",
          "name": "stdout",
          "text": [
            "Mounted at /content/drive\n"
          ]
        }
      ]
    },
    {
      "cell_type": "code",
      "source": [
        "# Load model and tokenizer from saved directory\n",
        "model_path = '/content/drive/MyDrive/sentiment140_model'\n",
        "tokenizer = DistilBertTokenizer.from_pretrained(model_path)\n",
        "model = DistilBertForSequenceClassification.from_pretrained(model_path)"
      ],
      "metadata": {
        "id": "TVlrKj2okvj1"
      },
      "execution_count": 8,
      "outputs": []
    },
    {
      "cell_type": "code",
      "source": [
        "# Set device\n",
        "device = torch.device(\"cuda\" if torch.cuda.is_available() else \"cpu\")\n",
        "model = model.to(device)"
      ],
      "metadata": {
        "id": "bX2Sj3Hw5sQw"
      },
      "execution_count": 9,
      "outputs": []
    },
    {
      "cell_type": "code",
      "source": [
        "# Define classification function with proper preprocessing\n",
        "def classify_text(text):\n",
        "    # Add the same prefix used during training\n",
        "    input_text = f\"TEXT1: {text}\"\n",
        "\n",
        "    # Tokenize with same parameters as training\n",
        "    inputs = tokenizer(\n",
        "        input_text,\n",
        "        return_tensors=\"pt\",\n",
        "        truncation=True,\n",
        "        padding=True,\n",
        "        max_length=128\n",
        "    )\n",
        "    inputs = {k: v.to(device) for k, v in inputs.items()}\n",
        "\n",
        "    with torch.no_grad():\n",
        "        outputs = model(**inputs)\n",
        "\n",
        "    probabilities = torch.nn.functional.softmax(outputs.logits, dim=1)\n",
        "    return probabilities[0].cpu().tolist()"
      ],
      "metadata": {
        "id": "cGXYTa3q5xsf"
      },
      "execution_count": 10,
      "outputs": []
    },
    {
      "cell_type": "code",
      "source": [
        "# Class labels mapping\n",
        "class_names = {\n",
        "    0: \"negative\",\n",
        "    1: \"positive\"\n",
        "}"
      ],
      "metadata": {
        "id": "WX4_Azdj51y-"
      },
      "execution_count": 11,
      "outputs": []
    },
    {
      "cell_type": "code",
      "source": [
        "# Interactive classification loop\n",
        "print(\"Enter text to classify (or 'quit' to exit):\")\n",
        "while True:\n",
        "    user_input = input(\"> \")\n",
        "\n",
        "    if user_input.lower() in ['quit', 'exit']:\n",
        "        print(\"Goodbye!\")\n",
        "        break\n",
        "\n",
        "    probabilities = classify_text(user_input)\n",
        "\n",
        "    print(\"\\nClassification results:\")\n",
        "    for i, prob in enumerate(probabilities):\n",
        "        print(f\"{class_names[i]}: {prob:.2%}\")\n",
        "\n",
        "    predicted_class = torch.tensor(probabilities).argmax().item()\n",
        "    print(f\"\\nTop prediction: {class_names[predicted_class]} ({probabilities[predicted_class]:.2%})\\n\")"
      ],
      "metadata": {
        "colab": {
          "base_uri": "https://localhost:8080/"
        },
        "id": "Gg9u3Pkt55Xj",
        "outputId": "edea84d5-4a53-4864-f74c-05eefb4f8aa2"
      },
      "execution_count": 12,
      "outputs": [
        {
          "output_type": "stream",
          "name": "stdout",
          "text": [
            "Enter text to classify (or 'quit' to exit):\n",
            "> i feel horny\n",
            "\n",
            "Classification results:\n",
            "negative: 98.85%\n",
            "positive: 1.15%\n",
            "\n",
            "Top prediction: negative (98.85%)\n",
            "\n",
            "> sarkar girao\n",
            "\n",
            "Classification results:\n",
            "negative: 37.11%\n",
            "positive: 62.89%\n",
            "\n",
            "Top prediction: positive (62.89%)\n",
            "\n",
            "> the\n",
            "\n",
            "Classification results:\n",
            "negative: 50.58%\n",
            "positive: 49.42%\n",
            "\n",
            "Top prediction: negative (50.58%)\n",
            "\n",
            "> rishabh\n",
            "\n",
            "Classification results:\n",
            "negative: 6.03%\n",
            "positive: 93.97%\n",
            "\n",
            "Top prediction: positive (93.97%)\n",
            "\n",
            "> mario\n",
            "\n",
            "Classification results:\n",
            "negative: 14.82%\n",
            "positive: 85.18%\n",
            "\n",
            "Top prediction: positive (85.18%)\n",
            "\n",
            "> quit\n",
            "Goodbye!\n"
          ]
        }
      ]
    }
  ]
}