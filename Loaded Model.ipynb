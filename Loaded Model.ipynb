{
  "cells": [
    {
      "cell_type": "code",
      "execution_count": null,
      "metadata": {
        "id": "SWDU-HDnX7UA"
      },
      "outputs": [],
      "source": [
        "!pip install -q transformers"
      ]
    },
    {
      "cell_type": "code",
      "execution_count": null,
      "metadata": {
        "id": "OFTf222AYANu"
      },
      "outputs": [],
      "source": [
        "import torch\n",
        "from transformers import DistilBertTokenizer, DistilBertForSequenceClassification"
      ]
    },
    {
      "cell_type": "code",
      "execution_count": null,
      "metadata": {
        "colab": {
          "base_uri": "https://localhost:8080/"
        },
        "id": "RiyYfRkx3Csp",
        "outputId": "036b9c30-6e5e-4559-beb5-57f123ab5bff"
      },
      "outputs": [
        {
          "name": "stdout",
          "output_type": "stream",
          "text": [
            "Mounted at /content/drive\n"
          ]
        }
      ],
      "source": [
        "# Mount Google Drive if model is saved there\n",
        "from google.colab import drive\n",
        "drive.mount('/content/drive')"
      ]
    },
    {
      "cell_type": "code",
      "execution_count": null,
      "metadata": {
        "id": "TVlrKj2okvj1"
      },
      "outputs": [],
      "source": [
        "# Load model and tokenizer from saved directory\n",
        "model_path = '/content/drive/MyDrive/sentiment140_model'\n",
        "tokenizer = DistilBertTokenizer.from_pretrained(model_path)\n",
        "model = DistilBertForSequenceClassification.from_pretrained(model_path)"
      ]
    },
    {
      "cell_type": "code",
      "execution_count": null,
      "metadata": {
        "id": "bX2Sj3Hw5sQw"
      },
      "outputs": [],
      "source": [
        "# Set device\n",
        "device = torch.device(\"cuda\" if torch.cuda.is_available() else \"cpu\")\n",
        "model = model.to(device)"
      ]
    },
    {
      "cell_type": "code",
      "execution_count": null,
      "metadata": {
        "id": "cGXYTa3q5xsf"
      },
      "outputs": [],
      "source": [
        "# Define classification function with proper preprocessing\n",
        "def classify_text(text):\n",
        "    # Add the same prefix used during training\n",
        "    input_text = f\"TEXT1: {text}\"\n",
        "\n",
        "    # Tokenize with same parameters as training\n",
        "    inputs = tokenizer(\n",
        "        input_text,\n",
        "        return_tensors=\"pt\",\n",
        "        truncation=True,\n",
        "        padding=True,\n",
        "        max_length=128\n",
        "    )\n",
        "    inputs = {k: v.to(device) for k, v in inputs.items()}\n",
        "\n",
        "    with torch.no_grad():\n",
        "        outputs = model(**inputs)\n",
        "\n",
        "    probabilities = torch.nn.functional.softmax(outputs.logits, dim=1)\n",
        "    return probabilities[0].cpu().tolist()"
      ]
    },
    {
      "cell_type": "code",
      "execution_count": null,
      "metadata": {
        "id": "WX4_Azdj51y-"
      },
      "outputs": [],
      "source": [
        "# Class labels mapping\n",
        "class_names = {\n",
        "    0: \"negative\",\n",
        "    1: \"positive\"\n",
        "}"
      ]
    },
    {
      "cell_type": "code",
      "execution_count": null,
      "metadata": {
        "id": "3i2kHc5_r8tO"
      },
      "outputs": [],
      "source": [
        "# Interactive classification loop\n",
        "print(\"Enter text to classify (or 'quit' to exit):\")\n",
        "while True:\n",
        "    user_input = input(\"> \")\n",
        "\n",
        "    if user_input.lower() in ['quit', 'exit']:\n",
        "        print(\"Goodbye!\")\n",
        "        break\n",
        "\n",
        "    probabilities = classify_text(user_input)\n",
        "\n",
        "    print(\"\\nClassification results:\")\n",
        "    for i, prob in enumerate(probabilities):\n",
        "        print(f\"{class_names[i]}: {prob:.2%}\")\n",
        "\n",
        "    predicted_class = torch.tensor(probabilities).argmax().item()\n",
        "    print(f\"\\nTop prediction: {class_names[predicted_class]} ({probabilities[predicted_class]:.2%})\\n\")"
      ]
    }
  ],
  "metadata": {
    "colab": {
      "provenance": []
    },
    "kernelspec": {
      "display_name": "Python 3",
      "name": "python3"
    },
    "language_info": {
      "name": "python"
    }
  },
  "nbformat": 4,
  "nbformat_minor": 0
}